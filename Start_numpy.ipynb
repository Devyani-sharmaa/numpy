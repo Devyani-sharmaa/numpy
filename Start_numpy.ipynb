{
 "cells": [
  {
   "cell_type": "markdown",
   "id": "15a2e93b",
   "metadata": {},
   "source": [
    "NUMPY(NUMERICAL PYTHON )\n",
    "\n",
    "Discoverd in 2005\n",
    "developed by Travis Oliphant\n",
    "numpy is homogenous while list is hetrogen"
   ]
  },
  {
   "cell_type": "code",
   "execution_count": 1,
   "id": "e7d65a86",
   "metadata": {},
   "outputs": [
    {
     "name": "stdout",
     "output_type": "stream",
     "text": [
      "Defaulting to user installation because normal site-packages is not writeable\n",
      "Requirement already satisfied: numpy in c:\\users\\sharm\\appdata\\roaming\\python\\python311\\site-packages (1.26.4)\n"
     ]
    },
    {
     "name": "stderr",
     "output_type": "stream",
     "text": [
      "\n",
      "[notice] A new release of pip is available: 23.1.2 -> 24.0\n",
      "[notice] To update, run: python.exe -m pip install --upgrade pip\n"
     ]
    }
   ],
   "source": [
    "!pip install numpy"
   ]
  },
  {
   "cell_type": "code",
   "execution_count": 2,
   "id": "3fc042d8",
   "metadata": {},
   "outputs": [],
   "source": [
    "#ndarray=n dimenstanal array \n",
    "#when we crearte any object with help of array method in numpy that obj called ndarray"
   ]
  },
  {
   "cell_type": "code",
   "execution_count": 3,
   "id": "fa7db816",
   "metadata": {},
   "outputs": [],
   "source": [
    "import numpy as np  "
   ]
  },
  {
   "cell_type": "code",
   "execution_count": 4,
   "id": "754c2583",
   "metadata": {},
   "outputs": [],
   "source": [
    "arr=np.array(10)"
   ]
  },
  {
   "cell_type": "code",
   "execution_count": 5,
   "id": "c902dfc3",
   "metadata": {},
   "outputs": [],
   "source": [
    "x=10\n"
   ]
  },
  {
   "cell_type": "code",
   "execution_count": 6,
   "id": "d802d107",
   "metadata": {},
   "outputs": [
    {
     "data": {
      "text/plain": [
       "int"
      ]
     },
     "execution_count": 6,
     "metadata": {},
     "output_type": "execute_result"
    }
   ],
   "source": [
    "type(x)"
   ]
  },
  {
   "cell_type": "code",
   "execution_count": 7,
   "id": "471c5f1d",
   "metadata": {},
   "outputs": [
    {
     "data": {
      "text/plain": [
       "numpy.ndarray"
      ]
     },
     "execution_count": 7,
     "metadata": {},
     "output_type": "execute_result"
    }
   ],
   "source": [
    "type(arr)"
   ]
  },
  {
   "cell_type": "code",
   "execution_count": 9,
   "id": "1415ede3",
   "metadata": {},
   "outputs": [],
   "source": [
    "#attributes::::\n",
    "                #ndim----------->return dimensiom of an ndarray"
   ]
  },
  {
   "cell_type": "code",
   "execution_count": 10,
   "id": "fd75eb44",
   "metadata": {},
   "outputs": [
    {
     "data": {
      "text/plain": [
       "0"
      ]
     },
     "execution_count": 10,
     "metadata": {},
     "output_type": "execute_result"
    }
   ],
   "source": [
    "arr.ndim"
   ]
  },
  {
   "cell_type": "code",
   "execution_count": null,
   "id": "c0bfe49b",
   "metadata": {},
   "outputs": [],
   "source": []
  },
  {
   "cell_type": "markdown",
   "id": "4cf305a7",
   "metadata": {},
   "source": [
    "CREATE 1D NDARRAY"
   ]
  },
  {
   "cell_type": "code",
   "execution_count": 64,
   "id": "61082339",
   "metadata": {},
   "outputs": [],
   "source": [
    "x=np.array([10,3,89,0])"
   ]
  },
  {
   "cell_type": "code",
   "execution_count": 65,
   "id": "760e8287",
   "metadata": {},
   "outputs": [
    {
     "data": {
      "text/plain": [
       "1"
      ]
     },
     "execution_count": 65,
     "metadata": {},
     "output_type": "execute_result"
    }
   ],
   "source": [
    "x.ndim"
   ]
  },
  {
   "cell_type": "code",
   "execution_count": 66,
   "id": "f0fb7d2b",
   "metadata": {},
   "outputs": [
    {
     "data": {
      "text/plain": [
       "array([10,  3, 89,  0])"
      ]
     },
     "execution_count": 66,
     "metadata": {},
     "output_type": "execute_result"
    }
   ],
   "source": [
    "x"
   ]
  },
  {
   "cell_type": "code",
   "execution_count": 67,
   "id": "55b37bea",
   "metadata": {},
   "outputs": [],
   "source": [
    "#indexing"
   ]
  },
  {
   "cell_type": "code",
   "execution_count": 68,
   "id": "9498e40f",
   "metadata": {},
   "outputs": [
    {
     "data": {
      "text/plain": [
       "89"
      ]
     },
     "execution_count": 68,
     "metadata": {},
     "output_type": "execute_result"
    }
   ],
   "source": [
    "x[2]"
   ]
  },
  {
   "cell_type": "markdown",
   "id": "a14a55e9",
   "metadata": {},
   "source": [
    "CRAETE 2D NDARRAY"
   ]
  },
  {
   "cell_type": "code",
   "execution_count": 72,
   "id": "36bbd586",
   "metadata": {},
   "outputs": [],
   "source": [
    "x=np.array([[19,90,87],[2,90,76]])"
   ]
  },
  {
   "cell_type": "code",
   "execution_count": 73,
   "id": "96414c8a",
   "metadata": {},
   "outputs": [
    {
     "data": {
      "text/plain": [
       "2"
      ]
     },
     "execution_count": 73,
     "metadata": {},
     "output_type": "execute_result"
    }
   ],
   "source": [
    "x.ndim"
   ]
  },
  {
   "cell_type": "code",
   "execution_count": 70,
   "id": "1a5e692a",
   "metadata": {},
   "outputs": [],
   "source": [
    "#indexing"
   ]
  },
  {
   "cell_type": "code",
   "execution_count": 74,
   "id": "51cc4197",
   "metadata": {},
   "outputs": [
    {
     "data": {
      "text/plain": [
       "87"
      ]
     },
     "execution_count": 74,
     "metadata": {},
     "output_type": "execute_result"
    }
   ],
   "source": [
    "x[0][2]"
   ]
  },
  {
   "cell_type": "code",
   "execution_count": 77,
   "id": "a0f9cada",
   "metadata": {},
   "outputs": [
    {
     "data": {
      "text/plain": [
       "76"
      ]
     },
     "execution_count": 77,
     "metadata": {},
     "output_type": "execute_result"
    }
   ],
   "source": [
    "x[1][2]"
   ]
  },
  {
   "cell_type": "code",
   "execution_count": 78,
   "id": "0ea27fdd",
   "metadata": {},
   "outputs": [
    {
     "data": {
      "text/plain": [
       "(87, 76)"
      ]
     },
     "execution_count": 78,
     "metadata": {},
     "output_type": "execute_result"
    }
   ],
   "source": [
    "x[0][2],x[1][2]"
   ]
  },
  {
   "cell_type": "code",
   "execution_count": null,
   "id": "bd319edf",
   "metadata": {},
   "outputs": [],
   "source": []
  },
  {
   "cell_type": "markdown",
   "id": "33807505",
   "metadata": {},
   "source": [
    "CRAETE 3D NDARRAY"
   ]
  },
  {
   "cell_type": "code",
   "execution_count": null,
   "id": "894a0b9c",
   "metadata": {},
   "outputs": [],
   "source": []
  },
  {
   "cell_type": "code",
   "execution_count": 79,
   "id": "8b5f22a8",
   "metadata": {},
   "outputs": [],
   "source": [
    "x=np.array([[[1, 2, 3], [4, 5, 6]], [[7, 8, 9], [10, 11, 12]]])"
   ]
  },
  {
   "cell_type": "code",
   "execution_count": null,
   "id": "d1d6284a",
   "metadata": {},
   "outputs": [],
   "source": []
  },
  {
   "cell_type": "code",
   "execution_count": 80,
   "id": "9f5054e2",
   "metadata": {},
   "outputs": [
    {
     "data": {
      "text/plain": [
       "3"
      ]
     },
     "execution_count": 80,
     "metadata": {},
     "output_type": "execute_result"
    }
   ],
   "source": [
    "x.ndim"
   ]
  },
  {
   "cell_type": "code",
   "execution_count": 81,
   "id": "8da0b9b9",
   "metadata": {},
   "outputs": [
    {
     "data": {
      "text/plain": [
       "array([[[ 1,  2,  3],\n",
       "        [ 4,  5,  6]],\n",
       "\n",
       "       [[ 7,  8,  9],\n",
       "        [10, 11, 12]]])"
      ]
     },
     "execution_count": 81,
     "metadata": {},
     "output_type": "execute_result"
    }
   ],
   "source": [
    "x"
   ]
  },
  {
   "cell_type": "markdown",
   "id": "e691a69a",
   "metadata": {},
   "source": [
    "indexing"
   ]
  },
  {
   "cell_type": "code",
   "execution_count": 82,
   "id": "85e95771",
   "metadata": {},
   "outputs": [
    {
     "data": {
      "text/plain": [
       "array([[1, 2, 3],\n",
       "       [4, 5, 6]])"
      ]
     },
     "execution_count": 82,
     "metadata": {},
     "output_type": "execute_result"
    }
   ],
   "source": [
    "x[0]"
   ]
  },
  {
   "cell_type": "code",
   "execution_count": 83,
   "id": "736c996e",
   "metadata": {},
   "outputs": [
    {
     "data": {
      "text/plain": [
       "array([[ 7,  8,  9],\n",
       "       [10, 11, 12]])"
      ]
     },
     "execution_count": 83,
     "metadata": {},
     "output_type": "execute_result"
    }
   ],
   "source": [
    "x[1]"
   ]
  },
  {
   "cell_type": "code",
   "execution_count": 85,
   "id": "bcbde050",
   "metadata": {},
   "outputs": [
    {
     "data": {
      "text/plain": [
       "5"
      ]
     },
     "execution_count": 85,
     "metadata": {},
     "output_type": "execute_result"
    }
   ],
   "source": [
    "x[0][1][1]"
   ]
  },
  {
   "cell_type": "code",
   "execution_count": null,
   "id": "6f333fae",
   "metadata": {},
   "outputs": [],
   "source": []
  },
  {
   "cell_type": "markdown",
   "id": "73fb34de",
   "metadata": {},
   "source": [
    "CREATE 4D ARRAY"
   ]
  },
  {
   "cell_type": "code",
   "execution_count": 54,
   "id": "8c30ae71",
   "metadata": {},
   "outputs": [],
   "source": [
    "x=np.array([[[[1,2],[3,4],[5,6]]],[[[7,8],[9,8],[7,6]]],[[[5,4],[3,2],[1,0]]]])"
   ]
  },
  {
   "cell_type": "code",
   "execution_count": 55,
   "id": "7853ba88",
   "metadata": {},
   "outputs": [
    {
     "data": {
      "text/plain": [
       "4"
      ]
     },
     "execution_count": 55,
     "metadata": {},
     "output_type": "execute_result"
    }
   ],
   "source": [
    "x.ndim"
   ]
  },
  {
   "cell_type": "code",
   "execution_count": 56,
   "id": "25bdefa6",
   "metadata": {},
   "outputs": [
    {
     "data": {
      "text/plain": [
       "numpy.ndarray"
      ]
     },
     "execution_count": 56,
     "metadata": {},
     "output_type": "execute_result"
    }
   ],
   "source": [
    "type(x)"
   ]
  },
  {
   "cell_type": "code",
   "execution_count": 57,
   "id": "19ecfb72",
   "metadata": {},
   "outputs": [
    {
     "data": {
      "text/plain": [
       "array([[[[1, 2],\n",
       "         [3, 4],\n",
       "         [5, 6]]],\n",
       "\n",
       "\n",
       "       [[[7, 8],\n",
       "         [9, 8],\n",
       "         [7, 6]]],\n",
       "\n",
       "\n",
       "       [[[5, 4],\n",
       "         [3, 2],\n",
       "         [1, 0]]]])"
      ]
     },
     "execution_count": 57,
     "metadata": {},
     "output_type": "execute_result"
    }
   ],
   "source": [
    "x"
   ]
  },
  {
   "cell_type": "markdown",
   "id": "0f4a7e5f",
   "metadata": {},
   "source": [
    "slicing:::: with ndaary\n",
    "objname[start:end:increment]\n",
    "\n",
    "\n",
    "start:0\n",
    "end:n-1\n",
    "increment:1"
   ]
  },
  {
   "cell_type": "code",
   "execution_count": 86,
   "id": "15beb647",
   "metadata": {},
   "outputs": [],
   "source": [
    "c=np.array([3,6,7,6,6,45,6,7,9])"
   ]
  },
  {
   "cell_type": "code",
   "execution_count": 87,
   "id": "26d40534",
   "metadata": {},
   "outputs": [
    {
     "data": {
      "text/plain": [
       "array([ 7,  6,  6, 45])"
      ]
     },
     "execution_count": 87,
     "metadata": {},
     "output_type": "execute_result"
    }
   ],
   "source": [
    "c[2:6]"
   ]
  },
  {
   "cell_type": "code",
   "execution_count": 88,
   "id": "0265aa28",
   "metadata": {},
   "outputs": [
    {
     "data": {
      "text/plain": [
       "array([ 9,  7,  6, 45,  6,  6,  7,  6,  3])"
      ]
     },
     "execution_count": 88,
     "metadata": {},
     "output_type": "execute_result"
    }
   ],
   "source": [
    "c[: :-1]"
   ]
  },
  {
   "cell_type": "markdown",
   "id": "83f858ff",
   "metadata": {},
   "source": [
    "SLICING IN 2D"
   ]
  },
  {
   "cell_type": "code",
   "execution_count": 89,
   "id": "7f04847f",
   "metadata": {},
   "outputs": [],
   "source": [
    "x=np.array([[19,90,87],[2,90,76]])"
   ]
  },
  {
   "cell_type": "code",
   "execution_count": 91,
   "id": "21b733fe",
   "metadata": {},
   "outputs": [
    {
     "data": {
      "text/plain": [
       "array([90, 76])"
      ]
     },
     "execution_count": 91,
     "metadata": {},
     "output_type": "execute_result"
    }
   ],
   "source": [
    "x[1][1:3]"
   ]
  },
  {
   "cell_type": "markdown",
   "id": "e180475f",
   "metadata": {},
   "source": [
    "slicing in 3d"
   ]
  },
  {
   "cell_type": "code",
   "execution_count": 92,
   "id": "5c2dacaf",
   "metadata": {},
   "outputs": [],
   "source": [
    "x=np.array([[[1, 2, 3], [4, 5, 6]], [[7, 8, 9], [10, 11, 12]]])"
   ]
  },
  {
   "cell_type": "code",
   "execution_count": 94,
   "id": "eb111a30",
   "metadata": {},
   "outputs": [
    {
     "data": {
      "text/plain": [
       "12"
      ]
     },
     "execution_count": 94,
     "metadata": {},
     "output_type": "execute_result"
    }
   ],
   "source": [
    "x[1][1][2]"
   ]
  },
  {
   "cell_type": "code",
   "execution_count": null,
   "id": "a8924a8e",
   "metadata": {},
   "outputs": [],
   "source": []
  },
  {
   "cell_type": "code",
   "execution_count": null,
   "id": "d00ed2a0",
   "metadata": {},
   "outputs": [],
   "source": [
    "\n",
    "\n",
    "\n",
    "\n"
   ]
  },
  {
   "cell_type": "markdown",
   "id": "1e76d387",
   "metadata": {},
   "source": [
    "ndarrray----------------->>>> mutable"
   ]
  },
  {
   "cell_type": "code",
   "execution_count": 96,
   "id": "c395d120",
   "metadata": {},
   "outputs": [],
   "source": [
    "z=np.array([12,56,48,59,90])"
   ]
  },
  {
   "cell_type": "code",
   "execution_count": 97,
   "id": "5de31900",
   "metadata": {},
   "outputs": [],
   "source": [
    "#replacing elements"
   ]
  },
  {
   "cell_type": "code",
   "execution_count": 99,
   "id": "021758e7",
   "metadata": {},
   "outputs": [],
   "source": [
    "#objname[indexnumber]=newitem"
   ]
  },
  {
   "cell_type": "code",
   "execution_count": 103,
   "id": "e22d74a7",
   "metadata": {},
   "outputs": [],
   "source": [
    "z[-1]=8"
   ]
  },
  {
   "cell_type": "code",
   "execution_count": 104,
   "id": "90e329f9",
   "metadata": {},
   "outputs": [
    {
     "data": {
      "text/plain": [
       "array([12, 56, 48, 59,  8])"
      ]
     },
     "execution_count": 104,
     "metadata": {},
     "output_type": "execute_result"
    }
   ],
   "source": [
    "z"
   ]
  },
  {
   "cell_type": "code",
   "execution_count": 105,
   "id": "fc9fd810",
   "metadata": {},
   "outputs": [],
   "source": [
    "\n",
    "\n",
    "\n",
    "#add elements\n",
    "\n",
    "#append\n"
   ]
  },
  {
   "cell_type": "code",
   "execution_count": 109,
   "id": "148d6f30",
   "metadata": {},
   "outputs": [],
   "source": [
    "z=np.array([2,4,3,5,4])"
   ]
  },
  {
   "cell_type": "code",
   "execution_count": 110,
   "id": "d2801bc3",
   "metadata": {},
   "outputs": [],
   "source": [
    "p=np.append(z,39)"
   ]
  },
  {
   "cell_type": "code",
   "execution_count": 111,
   "id": "771ac860",
   "metadata": {},
   "outputs": [
    {
     "data": {
      "text/plain": [
       "array([ 2,  4,  3,  5,  4, 39])"
      ]
     },
     "execution_count": 111,
     "metadata": {},
     "output_type": "execute_result"
    }
   ],
   "source": [
    "p"
   ]
  },
  {
   "cell_type": "code",
   "execution_count": 114,
   "id": "14c329c3",
   "metadata": {},
   "outputs": [],
   "source": [
    "#insert ---------->at specfic index\n",
    "#np.insert(objname,indexname,item)\n"
   ]
  },
  {
   "cell_type": "code",
   "execution_count": 115,
   "id": "0836ccd3",
   "metadata": {},
   "outputs": [
    {
     "data": {
      "text/plain": [
       "array([ 2,  4,  3,  8,  5,  4, 39])"
      ]
     },
     "execution_count": 115,
     "metadata": {},
     "output_type": "execute_result"
    }
   ],
   "source": [
    "np.insert(p,3,8)"
   ]
  },
  {
   "cell_type": "code",
   "execution_count": 116,
   "id": "c48177d9",
   "metadata": {},
   "outputs": [],
   "source": [
    "index=[3,4,6]\n",
    "element=[3,6,4]"
   ]
  },
  {
   "cell_type": "code",
   "execution_count": 118,
   "id": "85663b58",
   "metadata": {},
   "outputs": [
    {
     "data": {
      "text/plain": [
       "array([ 2,  4,  3,  3,  5,  6,  4, 39,  4])"
      ]
     },
     "execution_count": 118,
     "metadata": {},
     "output_type": "execute_result"
    }
   ],
   "source": [
    "np.insert(p,index,element)"
   ]
  },
  {
   "cell_type": "code",
   "execution_count": null,
   "id": "08abe591",
   "metadata": {},
   "outputs": [],
   "source": []
  }
 ],
 "metadata": {
  "kernelspec": {
   "display_name": "Python 3 (ipykernel)",
   "language": "python",
   "name": "python3"
  },
  "language_info": {
   "codemirror_mode": {
    "name": "ipython",
    "version": 3
   },
   "file_extension": ".py",
   "mimetype": "text/x-python",
   "name": "python",
   "nbconvert_exporter": "python",
   "pygments_lexer": "ipython3",
   "version": "3.11.4"
  }
 },
 "nbformat": 4,
 "nbformat_minor": 5
}
