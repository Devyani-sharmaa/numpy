{
 "cells": [
  {
   "cell_type": "markdown",
   "id": "15a2e93b",
   "metadata": {},
   "source": [
    "NUMPY(NUMERICAL PYTHON )\n",
    "\n",
    "Discoverd in 2005\n",
    "developed by Travis Oliphant\n",
    "numpy is homogenous while list is hetrogen"
   ]
  },
  {
   "cell_type": "code",
   "execution_count": 1,
   "id": "e7d65a86",
   "metadata": {},
   "outputs": [
    {
     "name": "stdout",
     "output_type": "stream",
     "text": [
      "Defaulting to user installation because normal site-packages is not writeable\n",
      "Requirement already satisfied: numpy in c:\\users\\sharm\\appdata\\roaming\\python\\python311\\site-packages (1.26.4)\n"
     ]
    },
    {
     "name": "stderr",
     "output_type": "stream",
     "text": [
      "\n",
      "[notice] A new release of pip is available: 23.1.2 -> 24.0\n",
      "[notice] To update, run: python.exe -m pip install --upgrade pip\n"
     ]
    }
   ],
   "source": [
    "!pip install numpy"
   ]
  },
  {
   "cell_type": "code",
   "execution_count": 2,
   "id": "82631652",
   "metadata": {},
   "outputs": [],
   "source": [
    "#ndarray=n dimenstanal array \n",
    "#when we create any object with help of array method in numpy that obj called ndarray"
   ]
  },
  {
   "cell_type": "code",
   "execution_count": 3,
   "id": "965b7162",
   "metadata": {},
   "outputs": [],
   "source": [
    "import numpy as np  "
   ]
  },
  {
   "cell_type": "code",
   "execution_count": 4,
   "id": "04851e89",
   "metadata": {},
   "outputs": [],
   "source": [
    "arr=np.array(10)"
   ]
  },
  {
   "cell_type": "code",
   "execution_count": 5,
   "id": "3ced5c13",
   "metadata": {},
   "outputs": [],
   "source": [
    "x=10\n"
   ]
  },
  {
   "cell_type": "code",
   "execution_count": 6,
   "id": "f17f25a8",
   "metadata": {},
   "outputs": [
    {
     "data": {
      "text/plain": [
       "int"
      ]
     },
     "execution_count": 6,
     "metadata": {},
     "output_type": "execute_result"
    }
   ],
   "source": [
    "type(x)"
   ]
  },
  {
   "cell_type": "code",
   "execution_count": 7,
   "id": "11c4248e",
   "metadata": {},
   "outputs": [
    {
     "data": {
      "text/plain": [
       "numpy.ndarray"
      ]
     },
     "execution_count": 7,
     "metadata": {},
     "output_type": "execute_result"
    }
   ],
   "source": [
    "type(arr)"
   ]
  },
  {
   "cell_type": "code",
   "execution_count": 9,
   "id": "40cec6eb",
   "metadata": {},
   "outputs": [],
   "source": [
    "#attributes::::\n",
    "                #ndim----------->return dimensiom of an ndarray"
   ]
  },
  {
   "cell_type": "code",
   "execution_count": 10,
   "id": "a614a0fd",
   "metadata": {},
   "outputs": [
    {
     "data": {
      "text/plain": [
       "0"
      ]
     },
     "execution_count": 10,
     "metadata": {},
     "output_type": "execute_result"
    }
   ],
   "source": [
    "arr.ndim"
   ]
  },
  {
   "cell_type": "code",
   "execution_count": null,
   "id": "29f59796",
   "metadata": {},
   "outputs": [],
   "source": []
  },
  {
   "cell_type": "markdown",
   "id": "89765201",
   "metadata": {},
   "source": [
    "CREATE 1D NDARRAY"
   ]
  },
  {
   "cell_type": "code",
   "execution_count": 64,
   "id": "6b951fef",
   "metadata": {},
   "outputs": [],
   "source": [
    "x=np.array([10,3,89,0])"
   ]
  },
  {
   "cell_type": "code",
   "execution_count": 65,
   "id": "daee2363",
   "metadata": {},
   "outputs": [
    {
     "data": {
      "text/plain": [
       "1"
      ]
     },
     "execution_count": 65,
     "metadata": {},
     "output_type": "execute_result"
    }
   ],
   "source": [
    "x.ndim"
   ]
  },
  {
   "cell_type": "code",
   "execution_count": 66,
   "id": "e10cb552",
   "metadata": {},
   "outputs": [
    {
     "data": {
      "text/plain": [
       "array([10,  3, 89,  0])"
      ]
     },
     "execution_count": 66,
     "metadata": {},
     "output_type": "execute_result"
    }
   ],
   "source": [
    "x"
   ]
  },
  {
   "cell_type": "code",
   "execution_count": 67,
   "id": "7e2531e6",
   "metadata": {},
   "outputs": [],
   "source": [
    "#indexing"
   ]
  },
  {
   "cell_type": "code",
   "execution_count": 68,
   "id": "8e858d8e",
   "metadata": {},
   "outputs": [
    {
     "data": {
      "text/plain": [
       "89"
      ]
     },
     "execution_count": 68,
     "metadata": {},
     "output_type": "execute_result"
    }
   ],
   "source": [
    "x[2]"
   ]
  },
  {
   "cell_type": "markdown",
   "id": "5abb719e",
   "metadata": {},
   "source": [
    "CRAETE 2D NDARRAY"
   ]
  },
  {
   "cell_type": "code",
   "execution_count": 72,
   "id": "dd62ea8d",
   "metadata": {},
   "outputs": [],
   "source": [
    "x=np.array([[19,90,87],[2,90,76]])"
   ]
  },
  {
   "cell_type": "code",
   "execution_count": 73,
   "id": "025a42d0",
   "metadata": {},
   "outputs": [
    {
     "data": {
      "text/plain": [
       "2"
      ]
     },
     "execution_count": 73,
     "metadata": {},
     "output_type": "execute_result"
    }
   ],
   "source": [
    "x.ndim"
   ]
  },
  {
   "cell_type": "code",
   "execution_count": 70,
   "id": "5d686fa6",
   "metadata": {},
   "outputs": [],
   "source": [
    "#indexing"
   ]
  },
  {
   "cell_type": "code",
   "execution_count": 74,
   "id": "27466ae8",
   "metadata": {},
   "outputs": [
    {
     "data": {
      "text/plain": [
       "87"
      ]
     },
     "execution_count": 74,
     "metadata": {},
     "output_type": "execute_result"
    }
   ],
   "source": [
    "x[0][2]"
   ]
  },
  {
   "cell_type": "code",
   "execution_count": 77,
   "id": "c8a4a028",
   "metadata": {},
   "outputs": [
    {
     "data": {
      "text/plain": [
       "76"
      ]
     },
     "execution_count": 77,
     "metadata": {},
     "output_type": "execute_result"
    }
   ],
   "source": [
    "x[1][2]"
   ]
  },
  {
   "cell_type": "code",
   "execution_count": 78,
   "id": "ccaa1226",
   "metadata": {},
   "outputs": [
    {
     "data": {
      "text/plain": [
       "(87, 76)"
      ]
     },
     "execution_count": 78,
     "metadata": {},
     "output_type": "execute_result"
    }
   ],
   "source": [
    "x[0][2],x[1][2]"
   ]
  },
  {
   "cell_type": "code",
   "execution_count": null,
   "id": "9fbd811c",
   "metadata": {},
   "outputs": [],
   "source": []
  },
  {
   "cell_type": "markdown",
   "id": "737a22c1",
   "metadata": {},
   "source": [
    "CRAETE 3D NDARRAY"
   ]
  },
  {
   "cell_type": "code",
   "execution_count": null,
   "id": "34d4908d",
   "metadata": {},
   "outputs": [],
   "source": []
  },
  {
   "cell_type": "code",
   "execution_count": 79,
   "id": "e891ea2d",
   "metadata": {},
   "outputs": [],
   "source": [
    "x=np.array([[[1, 2, 3], [4, 5, 6]], [[7, 8, 9], [10, 11, 12]]])"
   ]
  },
  {
   "cell_type": "code",
   "execution_count": null,
   "id": "53b0de76",
   "metadata": {},
   "outputs": [],
   "source": []
  },
  {
   "cell_type": "code",
   "execution_count": 80,
   "id": "1d9cd4b6",
   "metadata": {},
   "outputs": [
    {
     "data": {
      "text/plain": [
       "3"
      ]
     },
     "execution_count": 80,
     "metadata": {},
     "output_type": "execute_result"
    }
   ],
   "source": [
    "x.ndim"
   ]
  },
  {
   "cell_type": "code",
   "execution_count": 81,
   "id": "c6ad5549",
   "metadata": {},
   "outputs": [
    {
     "data": {
      "text/plain": [
       "array([[[ 1,  2,  3],\n",
       "        [ 4,  5,  6]],\n",
       "\n",
       "       [[ 7,  8,  9],\n",
       "        [10, 11, 12]]])"
      ]
     },
     "execution_count": 81,
     "metadata": {},
     "output_type": "execute_result"
    }
   ],
   "source": [
    "x"
   ]
  },
  {
   "cell_type": "markdown",
   "id": "a9c19632",
   "metadata": {},
   "source": [
    "indexing"
   ]
  },
  {
   "cell_type": "code",
   "execution_count": 82,
   "id": "ef3ed68d",
   "metadata": {},
   "outputs": [
    {
     "data": {
      "text/plain": [
       "array([[1, 2, 3],\n",
       "       [4, 5, 6]])"
      ]
     },
     "execution_count": 82,
     "metadata": {},
     "output_type": "execute_result"
    }
   ],
   "source": [
    "x[0]"
   ]
  },
  {
   "cell_type": "code",
   "execution_count": 83,
   "id": "a734a4e6",
   "metadata": {},
   "outputs": [
    {
     "data": {
      "text/plain": [
       "array([[ 7,  8,  9],\n",
       "       [10, 11, 12]])"
      ]
     },
     "execution_count": 83,
     "metadata": {},
     "output_type": "execute_result"
    }
   ],
   "source": [
    "x[1]"
   ]
  },
  {
   "cell_type": "code",
   "execution_count": 85,
   "id": "816f918c",
   "metadata": {},
   "outputs": [
    {
     "data": {
      "text/plain": [
       "5"
      ]
     },
     "execution_count": 85,
     "metadata": {},
     "output_type": "execute_result"
    }
   ],
   "source": [
    "x[0][1][1]"
   ]
  },
  {
   "cell_type": "code",
   "execution_count": null,
   "id": "7a460c7c",
   "metadata": {},
   "outputs": [],
   "source": []
  },
  {
   "cell_type": "markdown",
   "id": "2046a202",
   "metadata": {},
   "source": [
    "CREATE 4D ARRAY"
   ]
  },
  {
   "cell_type": "code",
   "execution_count": 54,
   "id": "b42541d3",
   "metadata": {},
   "outputs": [],
   "source": [
    "x=np.array([[[[1,2],[3,4],[5,6]]],[[[7,8],[9,8],[7,6]]],[[[5,4],[3,2],[1,0]]]])"
   ]
  },
  {
   "cell_type": "code",
   "execution_count": 55,
   "id": "f8096c29",
   "metadata": {},
   "outputs": [
    {
     "data": {
      "text/plain": [
       "4"
      ]
     },
     "execution_count": 55,
     "metadata": {},
     "output_type": "execute_result"
    }
   ],
   "source": [
    "x.ndim"
   ]
  },
  {
   "cell_type": "code",
   "execution_count": 56,
   "id": "45c3489b",
   "metadata": {},
   "outputs": [
    {
     "data": {
      "text/plain": [
       "numpy.ndarray"
      ]
     },
     "execution_count": 56,
     "metadata": {},
     "output_type": "execute_result"
    }
   ],
   "source": [
    "type(x)"
   ]
  },
  {
   "cell_type": "code",
   "execution_count": 57,
   "id": "09191f85",
   "metadata": {},
   "outputs": [
    {
     "data": {
      "text/plain": [
       "array([[[[1, 2],\n",
       "         [3, 4],\n",
       "         [5, 6]]],\n",
       "\n",
       "\n",
       "       [[[7, 8],\n",
       "         [9, 8],\n",
       "         [7, 6]]],\n",
       "\n",
       "\n",
       "       [[[5, 4],\n",
       "         [3, 2],\n",
       "         [1, 0]]]])"
      ]
     },
     "execution_count": 57,
     "metadata": {},
     "output_type": "execute_result"
    }
   ],
   "source": [
    "x"
   ]
  },
  {
   "cell_type": "markdown",
   "id": "674b5002",
   "metadata": {},
   "source": [
    "slicing:::: with ndaary\n",
    "objname[start:end:increment]\n",
    "\n",
    "\n",
    "start:0\n",
    "end:n-1\n",
    "increment:1"
   ]
  },
  {
   "cell_type": "code",
   "execution_count": 86,
   "id": "7966a946",
   "metadata": {},
   "outputs": [],
   "source": [
    "c=np.array([3,6,7,6,6,45,6,7,9])"
   ]
  },
  {
   "cell_type": "code",
   "execution_count": 87,
   "id": "8779705e",
   "metadata": {},
   "outputs": [
    {
     "data": {
      "text/plain": [
       "array([ 7,  6,  6, 45])"
      ]
     },
     "execution_count": 87,
     "metadata": {},
     "output_type": "execute_result"
    }
   ],
   "source": [
    "c[2:6]"
   ]
  },
  {
   "cell_type": "code",
   "execution_count": 88,
   "id": "0b3e2d34",
   "metadata": {},
   "outputs": [
    {
     "data": {
      "text/plain": [
       "array([ 9,  7,  6, 45,  6,  6,  7,  6,  3])"
      ]
     },
     "execution_count": 88,
     "metadata": {},
     "output_type": "execute_result"
    }
   ],
   "source": [
    "c[: :-1]"
   ]
  },
  {
   "cell_type": "markdown",
   "id": "fc399e30",
   "metadata": {},
   "source": [
    "SLICING IN 2D"
   ]
  },
  {
   "cell_type": "code",
   "execution_count": 89,
   "id": "ebe1efd3",
   "metadata": {},
   "outputs": [],
   "source": [
    "x=np.array([[19,90,87],[2,90,76]])"
   ]
  },
  {
   "cell_type": "code",
   "execution_count": 91,
   "id": "7d4dead8",
   "metadata": {},
   "outputs": [
    {
     "data": {
      "text/plain": [
       "array([90, 76])"
      ]
     },
     "execution_count": 91,
     "metadata": {},
     "output_type": "execute_result"
    }
   ],
   "source": [
    "x[1][1:3]"
   ]
  },
  {
   "cell_type": "markdown",
   "id": "db4c49e7",
   "metadata": {},
   "source": [
    "slicing in 3d"
   ]
  },
  {
   "cell_type": "code",
   "execution_count": 92,
   "id": "0197b477",
   "metadata": {},
   "outputs": [],
   "source": [
    "x=np.array([[[1, 2, 3], [4, 5, 6]], [[7, 8, 9], [10, 11, 12]]])"
   ]
  },
  {
   "cell_type": "code",
   "execution_count": 94,
   "id": "67d015e6",
   "metadata": {},
   "outputs": [
    {
     "data": {
      "text/plain": [
       "12"
      ]
     },
     "execution_count": 94,
     "metadata": {},
     "output_type": "execute_result"
    }
   ],
   "source": [
    "x[1][1][2]"
   ]
  },
  {
   "cell_type": "code",
   "execution_count": null,
   "id": "c87b1fbc",
   "metadata": {},
   "outputs": [],
   "source": []
  },
  {
   "cell_type": "code",
   "execution_count": null,
   "id": "5ebbcda4",
   "metadata": {},
   "outputs": [],
   "source": [
    "\n",
    "\n",
    "\n",
    "\n"
   ]
  },
  {
   "cell_type": "markdown",
   "id": "edf1e330",
   "metadata": {},
   "source": [
    "ndarrray----------------->>>> mutable"
   ]
  },
  {
   "cell_type": "code",
   "execution_count": 96,
   "id": "d22b9031",
   "metadata": {},
   "outputs": [],
   "source": [
    "z=np.array([12,56,48,59,90])"
   ]
  },
  {
   "cell_type": "code",
   "execution_count": 97,
   "id": "f55494f7",
   "metadata": {},
   "outputs": [],
   "source": [
    "#replacing elements"
   ]
  },
  {
   "cell_type": "code",
   "execution_count": 99,
   "id": "43d6e89b",
   "metadata": {},
   "outputs": [],
   "source": [
    "#objname[indexnumber]=newitem"
   ]
  },
  {
   "cell_type": "code",
   "execution_count": 103,
   "id": "87040512",
   "metadata": {},
   "outputs": [],
   "source": [
    "z[-1]=8"
   ]
  },
  {
   "cell_type": "code",
   "execution_count": 104,
   "id": "af137b8a",
   "metadata": {},
   "outputs": [
    {
     "data": {
      "text/plain": [
       "array([12, 56, 48, 59,  8])"
      ]
     },
     "execution_count": 104,
     "metadata": {},
     "output_type": "execute_result"
    }
   ],
   "source": [
    "z"
   ]
  },
  {
   "cell_type": "code",
   "execution_count": 105,
   "id": "4d1afd49",
   "metadata": {},
   "outputs": [],
   "source": [
    "\n",
    "\n",
    "\n",
    "#add elements\n",
    "\n",
    "#append\n"
   ]
  },
  {
   "cell_type": "code",
   "execution_count": 109,
   "id": "798deae1",
   "metadata": {},
   "outputs": [],
   "source": [
    "z=np.array([2,4,3,5,4])"
   ]
  },
  {
   "cell_type": "code",
   "execution_count": 110,
   "id": "3ec4eb75",
   "metadata": {},
   "outputs": [],
   "source": [
    "p=np.append(z,39)"
   ]
  },
  {
   "cell_type": "code",
   "execution_count": 111,
   "id": "9974062f",
   "metadata": {},
   "outputs": [
    {
     "data": {
      "text/plain": [
       "array([ 2,  4,  3,  5,  4, 39])"
      ]
     },
     "execution_count": 111,
     "metadata": {},
     "output_type": "execute_result"
    }
   ],
   "source": [
    "p"
   ]
  },
  {
   "cell_type": "code",
   "execution_count": 114,
   "id": "b478639e",
   "metadata": {},
   "outputs": [],
   "source": [
    "#insert ---------->at specfic index\n",
    "#np.insert(objname,indexname,item)\n"
   ]
  },
  {
   "cell_type": "code",
   "execution_count": 115,
   "id": "abce3d21",
   "metadata": {},
   "outputs": [
    {
     "data": {
      "text/plain": [
       "array([ 2,  4,  3,  8,  5,  4, 39])"
      ]
     },
     "execution_count": 115,
     "metadata": {},
     "output_type": "execute_result"
    }
   ],
   "source": [
    "np.insert(p,3,8)"
   ]
  },
  {
   "cell_type": "code",
   "execution_count": 116,
   "id": "2526bc37",
   "metadata": {},
   "outputs": [],
   "source": [
    "index=[3,4,6]\n",
    "element=[3,6,4]"
   ]
  },
  {
   "cell_type": "code",
   "execution_count": 118,
   "id": "0863d832",
   "metadata": {},
   "outputs": [
    {
     "data": {
      "text/plain": [
       "array([ 2,  4,  3,  3,  5,  6,  4, 39,  4])"
      ]
     },
     "execution_count": 118,
     "metadata": {},
     "output_type": "execute_result"
    }
   ],
   "source": [
    "np.insert(p,index,element)"
   ]
  },
  {
   "cell_type": "code",
   "execution_count": 119,
   "id": "a98cb49c",
   "metadata": {},
   "outputs": [],
   "source": [
    "\n",
    "#tab is used for \n",
    "#methods"
   ]
  },
  {
   "cell_type": "code",
   "execution_count": 120,
   "id": "43cdb12a",
   "metadata": {},
   "outputs": [],
   "source": [
    "#where() it return index number"
   ]
  },
  {
   "cell_type": "code",
   "execution_count": 121,
   "id": "629b56f1",
   "metadata": {},
   "outputs": [],
   "source": [
    "x=np.array([10,3,89,0])"
   ]
  },
  {
   "cell_type": "code",
   "execution_count": 122,
   "id": "4f49684f",
   "metadata": {},
   "outputs": [
    {
     "data": {
      "text/plain": [
       "(array([1], dtype=int64),)"
      ]
     },
     "execution_count": 122,
     "metadata": {},
     "output_type": "execute_result"
    }
   ],
   "source": [
    "np.where(x==3)"
   ]
  },
  {
   "cell_type": "code",
   "execution_count": 125,
   "id": "1aea3ca9",
   "metadata": {},
   "outputs": [
    {
     "name": "stdout",
     "output_type": "stream",
     "text": [
      "Help on built-in function arange in module numpy:\n",
      "\n",
      "arange(...)\n",
      "    arange([start,] stop[, step,], dtype=None, *, like=None)\n",
      "    \n",
      "    Return evenly spaced values within a given interval.\n",
      "    \n",
      "    ``arange`` can be called with a varying number of positional arguments:\n",
      "    \n",
      "    * ``arange(stop)``: Values are generated within the half-open interval\n",
      "      ``[0, stop)`` (in other words, the interval including `start` but\n",
      "      excluding `stop`).\n",
      "    * ``arange(start, stop)``: Values are generated within the half-open\n",
      "      interval ``[start, stop)``.\n",
      "    * ``arange(start, stop, step)`` Values are generated within the half-open\n",
      "      interval ``[start, stop)``, with spacing between values given by\n",
      "      ``step``.\n",
      "    \n",
      "    For integer arguments the function is roughly equivalent to the Python\n",
      "    built-in :py:class:`range`, but returns an ndarray rather than a ``range``\n",
      "    instance.\n",
      "    \n",
      "    When using a non-integer step, such as 0.1, it is often better to use\n",
      "    `numpy.linspace`.\n",
      "    \n",
      "    See the Warning sections below for more information.\n",
      "    \n",
      "    Parameters\n",
      "    ----------\n",
      "    start : integer or real, optional\n",
      "        Start of interval.  The interval includes this value.  The default\n",
      "        start value is 0.\n",
      "    stop : integer or real\n",
      "        End of interval.  The interval does not include this value, except\n",
      "        in some cases where `step` is not an integer and floating point\n",
      "        round-off affects the length of `out`.\n",
      "    step : integer or real, optional\n",
      "        Spacing between values.  For any output `out`, this is the distance\n",
      "        between two adjacent values, ``out[i+1] - out[i]``.  The default\n",
      "        step size is 1.  If `step` is specified as a position argument,\n",
      "        `start` must also be given.\n",
      "    dtype : dtype, optional\n",
      "        The type of the output array.  If `dtype` is not given, infer the data\n",
      "        type from the other input arguments.\n",
      "    like : array_like, optional\n",
      "        Reference object to allow the creation of arrays which are not\n",
      "        NumPy arrays. If an array-like passed in as ``like`` supports\n",
      "        the ``__array_function__`` protocol, the result will be defined\n",
      "        by it. In this case, it ensures the creation of an array object\n",
      "        compatible with that passed in via this argument.\n",
      "    \n",
      "        .. versionadded:: 1.20.0\n",
      "    \n",
      "    Returns\n",
      "    -------\n",
      "    arange : ndarray\n",
      "        Array of evenly spaced values.\n",
      "    \n",
      "        For floating point arguments, the length of the result is\n",
      "        ``ceil((stop - start)/step)``.  Because of floating point overflow,\n",
      "        this rule may result in the last element of `out` being greater\n",
      "        than `stop`.\n",
      "    \n",
      "    Warnings\n",
      "    --------\n",
      "    The length of the output might not be numerically stable.\n",
      "    \n",
      "    Another stability issue is due to the internal implementation of\n",
      "    `numpy.arange`.\n",
      "    The actual step value used to populate the array is\n",
      "    ``dtype(start + step) - dtype(start)`` and not `step`. Precision loss\n",
      "    can occur here, due to casting or due to using floating points when\n",
      "    `start` is much larger than `step`. This can lead to unexpected\n",
      "    behaviour. For example::\n",
      "    \n",
      "      >>> np.arange(0, 5, 0.5, dtype=int)\n",
      "      array([0, 0, 0, 0, 0, 0, 0, 0, 0, 0])\n",
      "      >>> np.arange(-3, 3, 0.5, dtype=int)\n",
      "      array([-3, -2, -1,  0,  1,  2,  3,  4,  5,  6,  7,  8])\n",
      "    \n",
      "    In such cases, the use of `numpy.linspace` should be preferred.\n",
      "    \n",
      "    The built-in :py:class:`range` generates :std:doc:`Python built-in integers\n",
      "    that have arbitrary size <python:c-api/long>`, while `numpy.arange`\n",
      "    produces `numpy.int32` or `numpy.int64` numbers. This may result in\n",
      "    incorrect results for large integer values::\n",
      "    \n",
      "      >>> power = 40\n",
      "      >>> modulo = 10000\n",
      "      >>> x1 = [(n ** power) % modulo for n in range(8)]\n",
      "      >>> x2 = [(n ** power) % modulo for n in np.arange(8)]\n",
      "      >>> print(x1)\n",
      "      [0, 1, 7776, 8801, 6176, 625, 6576, 4001]  # correct\n",
      "      >>> print(x2)\n",
      "      [0, 1, 7776, 7185, 0, 5969, 4816, 3361]  # incorrect\n",
      "    \n",
      "    See Also\n",
      "    --------\n",
      "    numpy.linspace : Evenly spaced numbers with careful handling of endpoints.\n",
      "    numpy.ogrid: Arrays of evenly spaced numbers in N-dimensions.\n",
      "    numpy.mgrid: Grid-shaped arrays of evenly spaced numbers in N-dimensions.\n",
      "    :ref:`how-to-partition`\n",
      "    \n",
      "    Examples\n",
      "    --------\n",
      "    >>> np.arange(3)\n",
      "    array([0, 1, 2])\n",
      "    >>> np.arange(3.0)\n",
      "    array([ 0.,  1.,  2.])\n",
      "    >>> np.arange(3,7)\n",
      "    array([3, 4, 5, 6])\n",
      "    >>> np.arange(3,7,2)\n",
      "    array([3, 5])\n",
      "\n"
     ]
    }
   ],
   "source": [
    "help(np.arange)#help is used for documentation"
   ]
  },
  {
   "cell_type": "code",
   "execution_count": 128,
   "id": "af774e98",
   "metadata": {},
   "outputs": [],
   "source": [
    "#arange\n",
    "\n",
    "\n",
    "#arange(start,end,increment)"
   ]
  },
  {
   "cell_type": "code",
   "execution_count": 131,
   "id": "76e5195a",
   "metadata": {},
   "outputs": [],
   "source": [
    "x=np.arange(1,15,1)"
   ]
  },
  {
   "cell_type": "code",
   "execution_count": 132,
   "id": "c9140c08",
   "metadata": {},
   "outputs": [
    {
     "data": {
      "text/plain": [
       "array([ 1,  2,  3,  4,  5,  6,  7,  8,  9, 10, 11, 12, 13, 14])"
      ]
     },
     "execution_count": 132,
     "metadata": {},
     "output_type": "execute_result"
    }
   ],
   "source": [
    "x"
   ]
  },
  {
   "cell_type": "code",
   "execution_count": 133,
   "id": "bfa5e03e",
   "metadata": {},
   "outputs": [],
   "source": [
    "#sort"
   ]
  },
  {
   "cell_type": "code",
   "execution_count": 136,
   "id": "3ead215d",
   "metadata": {},
   "outputs": [],
   "source": [
    "x=np.array([12,65,43,6,5,9])"
   ]
  },
  {
   "cell_type": "code",
   "execution_count": 137,
   "id": "3f4f4192",
   "metadata": {},
   "outputs": [
    {
     "data": {
      "text/plain": [
       "array([ 5,  6,  9, 12, 43, 65])"
      ]
     },
     "execution_count": 137,
     "metadata": {},
     "output_type": "execute_result"
    }
   ],
   "source": [
    "np.sort(x)"
   ]
  },
  {
   "cell_type": "code",
   "execution_count": 140,
   "id": "482ca12d",
   "metadata": {},
   "outputs": [],
   "source": [
    "#unique  help us to get unique data\n"
   ]
  },
  {
   "cell_type": "code",
   "execution_count": 143,
   "id": "46d19d89",
   "metadata": {},
   "outputs": [],
   "source": [
    "x=np.array([12,65,43,4,5,3,23,12,6,5,9])"
   ]
  },
  {
   "cell_type": "code",
   "execution_count": 144,
   "id": "271e18ff",
   "metadata": {},
   "outputs": [
    {
     "data": {
      "text/plain": [
       "array([ 3,  4,  5,  6,  9, 12, 23, 43, 65])"
      ]
     },
     "execution_count": 144,
     "metadata": {},
     "output_type": "execute_result"
    }
   ],
   "source": [
    "np.unique(x)"
   ]
  },
  {
   "cell_type": "code",
   "execution_count": 145,
   "id": "3a122d1f",
   "metadata": {},
   "outputs": [],
   "source": [
    "#concatenate"
   ]
  },
  {
   "cell_type": "code",
   "execution_count": 149,
   "id": "6953ce6d",
   "metadata": {},
   "outputs": [],
   "source": [
    "p=np.array([2,5,4,3,5])\n"
   ]
  },
  {
   "cell_type": "code",
   "execution_count": 155,
   "id": "dab303ef",
   "metadata": {},
   "outputs": [],
   "source": [
    "q=np.array([2,7,5,4,6])"
   ]
  },
  {
   "cell_type": "code",
   "execution_count": 156,
   "id": "ceeedb14",
   "metadata": {},
   "outputs": [
    {
     "data": {
      "text/plain": [
       "array([2, 5, 4, 3, 5, 2, 7, 5, 4, 6])"
      ]
     },
     "execution_count": 156,
     "metadata": {},
     "output_type": "execute_result"
    }
   ],
   "source": [
    "np.concatenate((p,q))"
   ]
  },
  {
   "cell_type": "code",
   "execution_count": 157,
   "id": "89b6a0f3",
   "metadata": {},
   "outputs": [],
   "source": [
    "#vstack"
   ]
  },
  {
   "cell_type": "code",
   "execution_count": 158,
   "id": "0073d869",
   "metadata": {},
   "outputs": [
    {
     "data": {
      "text/plain": [
       "array([[2, 5, 4, 3, 5],\n",
       "       [2, 7, 5, 4, 6]])"
      ]
     },
     "execution_count": 158,
     "metadata": {},
     "output_type": "execute_result"
    }
   ],
   "source": [
    "np.vstack((p,q))"
   ]
  },
  {
   "cell_type": "code",
   "execution_count": 1,
   "id": "bc31f898",
   "metadata": {},
   "outputs": [],
   "source": [
    "# reshape----"
   ]
  },
  {
   "cell_type": "code",
   "execution_count": 23,
   "id": "ad469d43",
   "metadata": {},
   "outputs": [],
   "source": [
    "x=np.array([12,65,43,4,5,3,23,12,6,5,9,3])"
   ]
  },
  {
   "cell_type": "code",
   "execution_count": 24,
   "id": "1a8ca15f",
   "metadata": {
    "scrolled": true
   },
   "outputs": [
    {
     "data": {
      "text/plain": [
       "12"
      ]
     },
     "execution_count": 24,
     "metadata": {},
     "output_type": "execute_result"
    }
   ],
   "source": [
    "len(x)"
   ]
  },
  {
   "cell_type": "code",
   "execution_count": 25,
   "id": "5a79263c",
   "metadata": {},
   "outputs": [
    {
     "data": {
      "text/plain": [
       "array([[12, 65, 43,  4,  5,  3],\n",
       "       [23, 12,  6,  5,  9,  3]])"
      ]
     },
     "execution_count": 25,
     "metadata": {},
     "output_type": "execute_result"
    }
   ],
   "source": [
    "x.reshape(2,6)"
   ]
  },
  {
   "cell_type": "code",
   "execution_count": null,
   "id": "427acd03",
   "metadata": {},
   "outputs": [],
   "source": []
  },
  {
   "cell_type": "code",
   "execution_count": 26,
   "id": "a624dd8e",
   "metadata": {},
   "outputs": [
    {
     "data": {
      "text/plain": [
       "array([[12, 65, 43,  4,  5,  3],\n",
       "       [23, 12,  6,  5,  9,  3]])"
      ]
     },
     "execution_count": 26,
     "metadata": {},
     "output_type": "execute_result"
    }
   ],
   "source": [
    "x.reshape((2,-1))"
   ]
  },
  {
   "cell_type": "code",
   "execution_count": 27,
   "id": "dc7c89ee",
   "metadata": {
    "scrolled": true
   },
   "outputs": [
    {
     "data": {
      "text/plain": [
       "array([[12, 65, 43,  4],\n",
       "       [ 5,  3, 23, 12],\n",
       "       [ 6,  5,  9,  3]])"
      ]
     },
     "execution_count": 27,
     "metadata": {},
     "output_type": "execute_result"
    }
   ],
   "source": [
    "x.reshape(-1,4)"
   ]
  },
  {
   "cell_type": "code",
   "execution_count": 29,
   "id": "466997a6",
   "metadata": {},
   "outputs": [],
   "source": [
    "#1d to 3d rehaping"
   ]
  },
  {
   "cell_type": "code",
   "execution_count": 30,
   "id": "1e9869cc",
   "metadata": {},
   "outputs": [
    {
     "data": {
      "text/plain": [
       "array([[[12, 65],\n",
       "        [43,  4],\n",
       "        [ 5,  3]],\n",
       "\n",
       "       [[23, 12],\n",
       "        [ 6,  5],\n",
       "        [ 9,  3]]])"
      ]
     },
     "execution_count": 30,
     "metadata": {},
     "output_type": "execute_result"
    }
   ],
   "source": [
    "x.reshape(2,3,2)"
   ]
  },
  {
   "cell_type": "code",
   "execution_count": 22,
   "id": "c0fe5c50",
   "metadata": {},
   "outputs": [
    {
     "data": {
      "text/plain": [
       "array([ 1,  2,  3,  4,  5,  6,  7,  8,  9, 10, 11, 12])"
      ]
     },
     "execution_count": 22,
     "metadata": {},
     "output_type": "execute_result"
    }
   ],
   "source": [
    "x.reshape(-1)"
   ]
  },
  {
   "cell_type": "code",
   "execution_count": null,
   "id": "0db6dbf9",
   "metadata": {},
   "outputs": [],
   "source": [
    "3d array reshaping"
   ]
  },
  {
   "cell_type": "code",
   "execution_count": 13,
   "id": "4d2b28c0",
   "metadata": {},
   "outputs": [],
   "source": [
    "x=np.array([[[1, 2, 3], [4, 5, 6]], [[7, 8, 9], [10, 11, 12]]])"
   ]
  },
  {
   "cell_type": "code",
   "execution_count": 15,
   "id": "a0816deb",
   "metadata": {},
   "outputs": [
    {
     "data": {
      "text/plain": [
       "array([[ 1,  2,  3,  4],\n",
       "       [ 5,  6,  7,  8],\n",
       "       [ 9, 10, 11, 12]])"
      ]
     },
     "execution_count": 15,
     "metadata": {},
     "output_type": "execute_result"
    }
   ],
   "source": [
    "x.reshape(-1,4)"
   ]
  },
  {
   "cell_type": "code",
   "execution_count": 16,
   "id": "3e4fe1e2",
   "metadata": {},
   "outputs": [
    {
     "data": {
      "text/plain": [
       "array([[ 1,  2,  3,  4,  5,  6],\n",
       "       [ 7,  8,  9, 10, 11, 12]])"
      ]
     },
     "execution_count": 16,
     "metadata": {},
     "output_type": "execute_result"
    }
   ],
   "source": [
    "x.reshape(2,-1)"
   ]
  },
  {
   "cell_type": "code",
   "execution_count": 31,
   "id": "4d3b043a",
   "metadata": {},
   "outputs": [],
   "source": [
    "arr = np.array([1, 2, 3, 4, 5, 4, 4])\n"
   ]
  },
  {
   "cell_type": "code",
   "execution_count": 33,
   "id": "443a9539",
   "metadata": {},
   "outputs": [],
   "source": [
    "\n",
    "x = np.where(arr == 4)"
   ]
  },
  {
   "cell_type": "code",
   "execution_count": 34,
   "id": "4037cc17",
   "metadata": {},
   "outputs": [
    {
     "name": "stdout",
     "output_type": "stream",
     "text": [
      "(array([3, 5, 6], dtype=int64),)\n"
     ]
    }
   ],
   "source": [
    "print(x)"
   ]
  },
  {
   "cell_type": "code",
   "execution_count": 35,
   "id": "490f9446",
   "metadata": {},
   "outputs": [],
   "source": [
    "#random"
   ]
  },
  {
   "cell_type": "code",
   "execution_count": 36,
   "id": "68294f28",
   "metadata": {},
   "outputs": [],
   "source": [
    "from numpy import random"
   ]
  },
  {
   "cell_type": "code",
   "execution_count": null,
   "id": "1f03b839",
   "metadata": {},
   "outputs": [],
   "source": [
    "randit retunn value upto specfic age"
   ]
  },
  {
   "cell_type": "code",
   "execution_count": null,
   "id": "c2fd660b",
   "metadata": {},
   "outputs": [],
   "source": []
  },
  {
   "cell_type": "code",
   "execution_count": 38,
   "id": "c716aea4",
   "metadata": {},
   "outputs": [
    {
     "data": {
      "text/plain": [
       "22"
      ]
     },
     "execution_count": 38,
     "metadata": {},
     "output_type": "execute_result"
    }
   ],
   "source": [
    "random.randint(100)"
   ]
  },
  {
   "cell_type": "code",
   "execution_count": 41,
   "id": "ec20a1e6",
   "metadata": {},
   "outputs": [
    {
     "data": {
      "text/plain": [
       "array([53, 61, 58, 16, 31])"
      ]
     },
     "execution_count": 41,
     "metadata": {},
     "output_type": "execute_result"
    }
   ],
   "source": [
    "random.randint(8,67,size=(5))"
   ]
  },
  {
   "cell_type": "code",
   "execution_count": 42,
   "id": "a419b387",
   "metadata": {},
   "outputs": [
    {
     "data": {
      "text/plain": [
       "array([[21, 33, 48, 13],\n",
       "       [66, 30, 60, 47],\n",
       "       [29, 36, 49, 41],\n",
       "       [45, 53, 21, 36],\n",
       "       [50, 58, 25, 32]])"
      ]
     },
     "execution_count": 42,
     "metadata": {},
     "output_type": "execute_result"
    }
   ],
   "source": [
    "random.randint(8,67,size=(5,4))#2d"
   ]
  },
  {
   "cell_type": "code",
   "execution_count": 43,
   "id": "6b2ba679",
   "metadata": {},
   "outputs": [
    {
     "data": {
      "text/plain": [
       "array([[[58],\n",
       "        [ 9]],\n",
       "\n",
       "       [[53],\n",
       "        [22]],\n",
       "\n",
       "       [[58],\n",
       "        [21]],\n",
       "\n",
       "       [[21],\n",
       "        [18]],\n",
       "\n",
       "       [[31],\n",
       "        [16]]])"
      ]
     },
     "execution_count": 43,
     "metadata": {},
     "output_type": "execute_result"
    }
   ],
   "source": [
    "random.randint(8,67,size=(5,2,1))#3d"
   ]
  },
  {
   "cell_type": "code",
   "execution_count": 44,
   "id": "91c4afdd",
   "metadata": {},
   "outputs": [],
   "source": [
    "#random.rand--it return random value from 0 and 1"
   ]
  },
  {
   "cell_type": "code",
   "execution_count": 45,
   "id": "f7513d56",
   "metadata": {},
   "outputs": [
    {
     "data": {
      "text/plain": [
       "array([0.14850603, 0.67591642, 0.94975095])"
      ]
     },
     "execution_count": 45,
     "metadata": {},
     "output_type": "execute_result"
    }
   ],
   "source": [
    "random.rand(3)"
   ]
  },
  {
   "cell_type": "code",
   "execution_count": 46,
   "id": "024fcde2",
   "metadata": {},
   "outputs": [],
   "source": [
    "#choice -no range"
   ]
  },
  {
   "cell_type": "code",
   "execution_count": 50,
   "id": "1c937fd5",
   "metadata": {},
   "outputs": [
    {
     "data": {
      "text/plain": [
       "array([[ 3,  4, 36],\n",
       "       [ 2,  4,  4],\n",
       "       [ 3, 36,  4]])"
      ]
     },
     "execution_count": 50,
     "metadata": {},
     "output_type": "execute_result"
    }
   ],
   "source": [
    "xp=random.choice([2,5,4,3,36,7,4,3,3],size=(3,3))\n",
    "xp"
   ]
  },
  {
   "cell_type": "code",
   "execution_count": 59,
   "id": "3238a91b",
   "metadata": {},
   "outputs": [],
   "source": [
    "x=1234452\n",
    "def xyz(*x):\n",
    "    lst = list(x)\n",
    "    dic = {}\n",
    "    \n",
    "    for i in lst:\n",
    "        if i not in dic and lst.count(i) != 1:\n",
    "            dic[i] = lst.count(i)\n",
    "    \n",
    "  \n"
   ]
  },
  {
   "cell_type": "code",
   "execution_count": 66,
   "id": "41bd27e9",
   "metadata": {},
   "outputs": [
    {
     "ename": "NameError",
     "evalue": "name 'lst' is not defined",
     "output_type": "error",
     "traceback": [
      "\u001b[1;31m---------------------------------------------------------------------------\u001b[0m",
      "\u001b[1;31mNameError\u001b[0m                                 Traceback (most recent call last)",
      "Cell \u001b[1;32mIn[66], line 1\u001b[0m\n\u001b[1;32m----> 1\u001b[0m \u001b[38;5;28mprint\u001b[39m(lst)\n",
      "\u001b[1;31mNameError\u001b[0m: name 'lst' is not defined"
     ]
    }
   ],
   "source": [
    "  print(lst)"
   ]
  },
  {
   "cell_type": "code",
   "execution_count": 65,
   "id": "5971974c",
   "metadata": {},
   "outputs": [],
   "source": [
    "x=1234567"
   ]
  },
  {
   "cell_type": "code",
   "execution_count": 1,
   "id": "dbe2b204",
   "metadata": {},
   "outputs": [
    {
     "data": {
      "text/plain": [
       "<function print(*args, sep=' ', end='\\n', file=None, flush=False)>"
      ]
     },
     "execution_count": 1,
     "metadata": {},
     "output_type": "execute_result"
    }
   ],
   "source": [
    "print"
   ]
  },
  {
   "cell_type": "code",
   "execution_count": null,
   "id": "f5e9b69a",
   "metadata": {},
   "outputs": [],
   "source": []
  }
 ],
 "metadata": {
  "kernelspec": {
   "display_name": "Python 3 (ipykernel)",
   "language": "python",
   "name": "python3"
  },
  "language_info": {
   "codemirror_mode": {
    "name": "ipython",
    "version": 3
   },
   "file_extension": ".py",
   "mimetype": "text/x-python",
   "name": "python",
   "nbconvert_exporter": "python",
   "pygments_lexer": "ipython3",
   "version": "3.11.4"
  }
 },
 "nbformat": 4,
 "nbformat_minor": 5
}
