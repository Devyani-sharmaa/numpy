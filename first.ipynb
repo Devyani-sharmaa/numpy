{
 "cells": [
  {
   "cell_type": "code",
   "execution_count": 1,
   "id": "29c457e1",
   "metadata": {},
   "outputs": [
    {
     "name": "stdout",
     "output_type": "stream",
     "text": [
      "hello devyani\n"
     ]
    }
   ],
   "source": [
    "print(\"hello devyani\")"
   ]
  },
  {
   "cell_type": "code",
   "execution_count": 2,
   "id": "8f72f4bc",
   "metadata": {},
   "outputs": [],
   "source": [
    "a=10\n",
    "b=10\n"
   ]
  },
  {
   "cell_type": "code",
   "execution_count": 3,
   "id": "1d863451",
   "metadata": {},
   "outputs": [],
   "source": [
    "c=a+b"
   ]
  },
  {
   "cell_type": "code",
   "execution_count": 4,
   "id": "9c7338be",
   "metadata": {},
   "outputs": [
    {
     "data": {
      "text/plain": [
       "20"
      ]
     },
     "execution_count": 4,
     "metadata": {},
     "output_type": "execute_result"
    }
   ],
   "source": [
    "c"
   ]
  },
  {
   "cell_type": "markdown",
   "id": "68550d50",
   "metadata": {},
   "source": [
    "#ADDING TWO NUMBERS   (THIS IS COMMENT)"
   ]
  },
  {
   "cell_type": "markdown",
   "id": "0c07f4ac",
   "metadata": {},
   "source": [
    "# ADD ( THIS IS HEADING WITH SPACE AFTER HASH)"
   ]
  },
  {
   "cell_type": "code",
   "execution_count": null,
   "id": "6d835cad",
   "metadata": {},
   "outputs": [],
   "source": []
  }
 ],
 "metadata": {
  "kernelspec": {
   "display_name": "Python 3 (ipykernel)",
   "language": "python",
   "name": "python3"
  },
  "language_info": {
   "codemirror_mode": {
    "name": "ipython",
    "version": 3
   },
   "file_extension": ".py",
   "mimetype": "text/x-python",
   "name": "python",
   "nbconvert_exporter": "python",
   "pygments_lexer": "ipython3",
   "version": "3.11.4"
  }
 },
 "nbformat": 4,
 "nbformat_minor": 5
}
